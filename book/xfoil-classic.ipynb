{
 "cells": [
  {
   "cell_type": "markdown",
   "id": "ca2ea82e-a84f-4e7e-a820-3d6e273fb437",
   "metadata": {},
   "source": [
    "# XFoil Classic\n",
    "\n",
    "Mark Drela created a very popular program for analyzing low speed airfoils. He called his program XFoil and wrote it in Fortran 77, not exactly a popular language these days unless you are into high-performance computing. Mark long ago stopped working on this project but he released it through files posted on his MIT website. The original program was last updated in 2013. \n",
    "\n",
    "The XFoil code can be divided into two basic components. The core is the airfoil analysis code. Supporting the analysis is a graphical component that originally used the X graphics system. X is still in use, but it is not commonly installed on modern development systems. In its place, I will create a simple display system using Python.\n",
    "\n",
    "My goal in working on Mark's project is to bring it back to life using modern development techniques and tools. This current project is the first step in that process. Here, the focus is on getting XFoil running exactly as it was originally written. I will work through compiling and running the code on a modern machine. In thhis first step, the graphical components will be processed so we can see what the program originally looked like. My development system is a Macbook, which has Apple's M1 Max chip.  I will not attempt to get this code running on a PC since getting X to run there is a bit more complex, and my intent is to replace X with a more modern graphics system."
   ]
  }
 ],
 "metadata": {
  "kernelspec": {
   "display_name": "Python 3 (ipykernel)",
   "language": "python",
   "name": "python3"
  },
  "language_info": {
   "codemirror_mode": {
    "name": "ipython",
    "version": 3
   },
   "file_extension": ".py",
   "mimetype": "text/x-python",
   "name": "python",
   "nbconvert_exporter": "python",
   "pygments_lexer": "ipython3",
   "version": "3.11.2"
  }
 },
 "nbformat": 4,
 "nbformat_minor": 5
}
